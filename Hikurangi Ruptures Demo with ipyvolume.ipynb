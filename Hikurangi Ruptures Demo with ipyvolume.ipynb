{
 "cells": [
  {
   "cell_type": "markdown",
   "metadata": {},
   "source": [
    "# Hikurangi Ruptures Demo (using ipyvolume)\n",
    "\n",
    "Use the **ipyvolume** library to produce an interactive 3D visualisation of Hikurangi w Ruptures. \n",
    "\n",
    "**Goals**\n",
    "\n",
    " - we can share these visualisations easily, and they should 'just work' on any O/S + common web browser\n",
    " - team members can experiment and customise these demos with no risk and a small learning curve.\n",
    " - demos can run on the free **mybinder.org** service, simply by sharing the binder link.\n",
    " \n",
    "**Known issues** \n",
    "\n",
    " - doesn't work with the **Microsoft Edge** browser"
   ]
  },
  {
   "cell_type": "code",
   "execution_count": 1,
   "metadata": {},
   "outputs": [],
   "source": [
    "import ipyvolume as ipv\n",
    "import geopandas as gpd\n",
    "import requests\n",
    "import numpy as np"
   ]
  },
  {
   "cell_type": "code",
   "execution_count": 2,
   "metadata": {},
   "outputs": [],
   "source": [
    "#import pythreejs\n",
    "import ipywidgets as widgets"
   ]
  },
  {
   "cell_type": "code",
   "execution_count": 3,
   "metadata": {},
   "outputs": [],
   "source": [
    "#for data animations\n",
    "#import asyncio\n",
    "#import nest_asyncio\n",
    "#nest_asyncio.apply()"
   ]
  },
  {
   "cell_type": "code",
   "execution_count": 4,
   "metadata": {},
   "outputs": [],
   "source": [
    "# tile outlines shapefiles  - choose your resolution\n",
    "URL30 = \"https://github.com/GNS-Science/eq-fault-geom/blob/master/data/subduction/tile_outlines_30.zip?raw=true\"\n",
    "URL10 = \"https://github.com/GNS-Science/eq-fault-geom/blob/master/data/subduction/tile_outlines.zip?raw=true\"\n",
    "tile_outlines_nztm = gpd.read_file(URL10).to_crs(epsg=2193)"
   ]
  },
  {
   "cell_type": "markdown",
   "metadata": {},
   "source": [
    "## Build the tri-polygon coords and indices need for ipyvolume\n",
    "\n",
    "We're using the **ipyvolume.plot_trisurf()** function which builds surfaces from triangles (tsurfs). Each tile in the subductio zone is a surface comprising two equilateral triangles on a single plane. \n",
    "\n",
    " - build three lists for the x,y,z coordinates of the corner locations\n",
    " - calculate the indices for the x,y,z co-ordinates of each tile and store this in the dataframe"
   ]
  },
  {
   "cell_type": "code",
   "execution_count": 5,
   "metadata": {},
   "outputs": [],
   "source": [
    "def quadPolyToTriPoly(coords):\n",
    "    \"\"\"\n",
    "    return the x,y & z lists defining define the tile corners in 3d space.\n",
    "    \"\"\"\n",
    "    assert len(coords) == 5\n",
    "    x = [g[0] for g in coords[:-1]]\n",
    "    y = [g[1] for g in coords[:-1]]\n",
    "    z = [g[2] for g in coords[:-1]]\n",
    "    return x, y, z\n",
    "\n",
    "# build the complete fault section tile coordinate lists \n",
    "x,y,z = [], [], []\n",
    "for bdry in tile_outlines_nztm.geometry.boundary:\n",
    "    x0,y0,z0 = quadPolyToTriPoly(list(bdry.coords))\n",
    "    x.extend(x0)\n",
    "    y.extend(y0)\n",
    "    z.extend(z0)"
   ]
  },
  {
   "cell_type": "code",
   "execution_count": 6,
   "metadata": {},
   "outputs": [],
   "source": [
    "# add the triangle indices to the dataframe\n",
    "def calculateFaceIdices(geometry):\n",
    "    #using this trick https://stackoverflow.com/a/18317089 to get the index\n",
    "    idx = int(geometry.name) *4\n",
    "    faces = [[idx, idx+1, idx+2], [idx, idx+2, idx+3]]\n",
    "    return faces\n",
    "    \n",
    "tile_outlines_nztm['triangles'] = tile_outlines_nztm['geometry'].to_frame().apply(calculateFaceIdices, axis=1)"
   ]
  },
  {
   "cell_type": "markdown",
   "metadata": {},
   "source": [
    "## Build the rectangular ruptures\n",
    "\n",
    "Use the **fault_section** module to create some rupture sets to superimpose on our tiled surface."
   ]
  },
  {
   "cell_type": "code",
   "execution_count": 7,
   "metadata": {},
   "outputs": [],
   "source": [
    "# import our python code \n",
    "from io import BytesIO\n",
    "import codecs\n",
    "import requests\n",
    "module_uri = \"https://raw.githubusercontent.com/GNS-Science/eq-fault-geom/master/src/eq_fault_geom/geomops/rupture_set/fault_section.py\"\n",
    "url = requests.get(module_uri, allow_redirects=True)\n",
    "bytesio_object = BytesIO(url.content)\n",
    "# Write the stuff\n",
    "with open(\"fault_section.py\", \"wb\") as f:\n",
    "    f.write(bytesio_object.getbuffer())\n",
    "\n",
    "import fault_section\n",
    "from fault_section import FaultSubSectionFactory, SheetFault"
   ]
  },
  {
   "cell_type": "code",
   "execution_count": 8,
   "metadata": {},
   "outputs": [],
   "source": [
    "# Configure the rupture builder to use the tile sources as used for the surfaces\n",
    "\n",
    "URL30 = \"https://github.com/GNS-Science/eq-fault-geom/blob/master/data/subduction/tile_parameters_30.csv?raw=true\"\n",
    "URL10 = \"https://github.com/GNS-Science/eq-fault-geom/blob/master/data/subduction/tile_parameters.csv?raw=true\"\n",
    "tile_params = BytesIO(requests.get(URL10).content)\n",
    "StreamReader = codecs.getreader('utf-8')\n",
    "wrapper_file = StreamReader(tile_params)\n",
    "\n",
    "factory = FaultSubSectionFactory()\n",
    "sf = SheetFault(\"Hikurangi\")\\\n",
    "        .build_surface_from_csv(factory, wrapper_file)"
   ]
  },
  {
   "cell_type": "code",
   "execution_count": 9,
   "metadata": {},
   "outputs": [],
   "source": [
    "# Variations on 'nearly rectangular' rupture sets ..\n",
    "#\n",
    "# scale: determines ratio of rectangle to original tile size (10km*10km).\n",
    "# aspect: ratio of 'along-strike' tiles to 'down-dip' tiles per rectangle.\n",
    "# interhttps://hub.gke.mybinder.org/user/chrisbc-379a8fb-0a027b8c1b4eff1-75eu0sje/notebooks/Hikurangi%20Rupture%20Demo.ipynb#val: how many tiles to advance both col-wise and row-wise\n",
    "# min_fill_factor: how many tiles are needed to make up a valid 'rectangle'\n",
    "#\n",
    "spec0 = dict(scale=3, aspect=2)\n",
    "spec1 = dict(scale=3, aspect=4, interval=2, min_fill_factor=0.5) #default min_fill_factor is 0.75\n",
    "spec2 = dict(scale=8, aspect=2, interval=4, min_fill_factor=0.55)\n",
    "spec3 = dict(scale=16, aspect=1, interval=4, min_fill_factor=0.33)\n",
    "spec4 = dict(scale=16, aspect=2, interval=4, min_fill_factor=0.33)\n",
    "spec5 = dict(scale=3, aspect=12, interval=2, min_fill_factor=0.55)\n",
    "\n",
    "#select the 'spec' to animate ...\n",
    "selected_spec = spec2\n",
    "\n",
    "#Build the rupture set \n",
    "ruptures = [rupt for rupt in sf.get_rupture_ids(selected_spec)]\n",
    "\n",
    "all_ruptures = dict(\n",
    "    spec0 = [rupt for rupt in sf.get_rupture_ids(spec0)],\n",
    "    spec1 = [rupt for rupt in sf.get_rupture_ids(spec1)],\n",
    "    spec2 = [rupt for rupt in sf.get_rupture_ids(spec2)],\n",
    "    spec3 = [rupt for rupt in sf.get_rupture_ids(spec3)],\n",
    "    spec4 = [rupt for rupt in sf.get_rupture_ids(spec4)],\n",
    "    spec5 = [rupt for rupt in sf.get_rupture_ids(spec5)],\n",
    ")"
   ]
  },
  {
   "cell_type": "markdown",
   "metadata": {},
   "source": [
    "## Render the 3D visualisation\n",
    "\n"
   ]
  },
  {
   "cell_type": "code",
   "execution_count": 10,
   "metadata": {},
   "outputs": [],
   "source": [
    "fig = ipv.figure()\n",
    "all_tris = np.array(tile_outlines_nztm['triangles'].to_list(), dtype='uint32')\n",
    "mesh = ipv.plot_trisurf(x=x, y=y, z=z, triangles=all_tris, color='lightblue')\n",
    "faces = ipv.plot_trisurf(x, y, z, triangles=[[]], color='red')\n",
    "ipv.ylim( min(y), max(y))\n",
    "ipv.xlim( min(x), max(x))\n",
    "ipv.zlim(-250e3, 0)\n"
   ]
  },
  {
   "cell_type": "code",
   "execution_count": 23,
   "metadata": {},
   "outputs": [],
   "source": [
    "#setup widget panels\n",
    "spec_opts = all_ruptures.keys()\n",
    "rupture_count = 0\n",
    "rupture_idx = 0\n",
    "\n",
    "dropdown_spec = widgets.Dropdown(options=spec_opts, description='Rupture spec')\n",
    "slider_frame = widgets.IntSlider(value=0, min=0, max=len(all_ruptures['spec0']), description='Rupture id:')\n",
    "button_prev = widgets.Button(\n",
    "    description='Prev',\n",
    "    disabled=False )\n",
    "button_next = widgets.Button(\n",
    "    description='Next',\n",
    "    disabled=False )\n",
    "\n",
    "# play = widgets.Play(\n",
    "#     interval=250,\n",
    "#     value=250,\n",
    "#     min=0,\n",
    "#     max=len(all_ruptures['spec0']),\n",
    "#     step=1,\n",
    "#     description=\"Press play\",https://notebooks.gesis.org/binder/jupyter/user/gns-science-nsh-pyter-notebooks-ghf3elw4/notebooks/Hikurangi%20Ruptures%20Demo%20using%20ipyvolume.ipynb#\n",
    "#     disabled=False\n",
    "# )\n",
    "# # slider = widgets.IntSlider()\n",
    "# widgets.jslink((play, 'value'), (slider_frame, 'value'))\n",
    "\n",
    "def new_faces(rupture_idx):\n",
    "    rupture_faces = all_ruptures[dropdown_spec.value][rupture_idx]\n",
    "    rupt_tris = tile_outlines_nztm[tile_outlines_nztm[\"FID\"].isin(rupture_faces)]\n",
    "    #convert series to np.array and update the faces\n",
    "    faces.triangles = np.array(rupt_tris['triangles'].to_list(), dtype='uint32')\n",
    "    \n",
    "def on_update_dropdown_spec(*args):\n",
    "    rupture_count = len(all_ruptures[dropdown_spec.value]) -1\n",
    "    slider_frame.max = rupture_count\n",
    "    slider_frame.value = 0\n",
    "#     play.max = rupture_count\n",
    "#     play.value = 0\n",
    "    new_faces(0)\n",
    "\n",
    "def on_update_slider_frame(*args):\n",
    "    rupture_idx = min(slider_frame.value, len(all_ruptures[dropdown_spec.value]))\n",
    "    #print('update_rupture_faces', rupture_idx)\n",
    "    new_faces(rupture_idx)\n",
    "\n",
    "def on_click_button_prev(*args):\n",
    "    idx = max(slider_frame.min, slider_frame.value-1)\n",
    "    slider_frame.value = idx\n",
    "\n",
    "def on_click_button_next(*args):\n",
    "    idx = min(slider_frame.max, slider_frame.value+1)\n",
    "    slider_frame.value = idx\n",
    "    \n",
    "#set up event listeners\n",
    "dropdown_spec.observe(on_update_dropdown_spec)   \n",
    "slider_frame.observe(on_update_slider_frame)\n",
    "button_prev.on_click(on_click_button_prev)\n",
    "button_next.on_click(on_click_button_next)\n",
    "\n",
    "control_panel = widgets.Box([dropdown_spec, slider_frame, button_prev, button_next])"
   ]
  },
  {
   "cell_type": "code",
   "execution_count": 24,
   "metadata": {},
   "outputs": [
    {
     "data": {
      "application/vnd.jupyter.widget-view+json": {
       "model_id": "31561056fd1742c78a00b25c60787de0",
       "version_major": 2,
       "version_minor": 0
      },
      "text/plain": [
       "VBox(children=(Figure(camera=PerspectiveCamera(aspect=0.8, fov=45.0, matrixWorldNeedsUpdate=True, position=(0.…"
      ]
     },
     "metadata": {},
     "output_type": "display_data"
    }
   ],
   "source": [
    "ipv.show()"
   ]
  },
  {
   "cell_type": "code",
   "execution_count": 26,
   "metadata": {},
   "outputs": [
    {
     "data": {
      "application/vnd.jupyter.widget-view+json": {
       "model_id": "f9ad6ead000445e896a2965eb52b99bb",
       "version_major": 2,
       "version_minor": 0
      },
      "text/plain": [
       "Box(children=(Dropdown(description='Rupture spec', options=('spec0', 'spec1', 'spec2', 'spec3', 'spec4', 'spec…"
      ]
     },
     "metadata": {},
     "output_type": "display_data"
    }
   ],
   "source": [
    "control_panel"
   ]
  },
  {
   "cell_type": "code",
   "execution_count": null,
   "metadata": {},
   "outputs": [],
   "source": []
  }
 ],
 "metadata": {
  "kernelspec": {
   "display_name": "Python 3",
   "language": "python",
   "name": "python3"
  },
  "language_info": {
   "codemirror_mode": {
    "name": "ipython",
    "version": 3
   },
   "file_extension": ".py",
   "mimetype": "text/x-python",
   "name": "python",
   "nbconvert_exporter": "python",
   "pygments_lexer": "ipython3",
   "version": "3.7.8"
  }
 },
 "nbformat": 4,
 "nbformat_minor": 4
}
