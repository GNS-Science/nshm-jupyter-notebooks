{
 "cells": [
  {
   "cell_type": "markdown",
   "metadata": {},
   "source": [
    "# Hikurangi Ruptures Demo (using ipyvolume)\n",
    "\n",
    "Use the **ipyvolume** library to produce an interactive 3D visualisation of Hikurangi w Ruptures. \n",
    "\n",
    "**Goals**\n",
    "\n",
    " - we can share these visualisations easily, and they should 'just work' on any O/S + common web browser\n",
    " - team members can experiment and customise these demos with no risk and a small learning curve.\n",
    " - demos can run on the free **mybinder.org** service, simply by sharing the binder link.\n",
    " \n",
    "**Known issues** \n",
    "\n",
    " - doesn't work with the **Microsoft Edge** browser"
   ]
  },
  {
   "cell_type": "markdown",
   "metadata": {},
   "source": [
    "## Render the 3D visualisation\n",
    "\n"
   ]
  },
  {
   "cell_type": "code",
   "execution_count": 13,
   "metadata": {},
   "outputs": [
    {
     "data": {
      "application/vnd.jupyter.widget-view+json": {
       "model_id": "637a216cfd134cbebb01cefde3919c9e",
       "version_major": 2,
       "version_minor": 0
      },
      "text/plain": [
       "VBox(children=(Figure(camera=PerspectiveCamera(fov=45.0, position=(0.0, 0.0, 2.0), quaternion=(0.0, 0.0, 0.0, …"
      ]
     },
     "metadata": {},
     "output_type": "display_data"
    }
   ],
   "source": [
    "%run \"Demo 1 - Hikurangi ruptures with ipyvolume.ipynb\""
   ]
  },
  {
   "cell_type": "code",
   "execution_count": 14,
   "metadata": {},
   "outputs": [],
   "source": [
    "from eq_fault_geom import faultmeshio\n",
    "tsurf1 = faultmeshio.tsurf(\"./data/CFM/tsurf/Wellington_Hutt_Valley_1.ts\")\n",
    "tsurf2 = faultmeshio.tsurf(\"./data/CFM/tsurf/Wellington_Hutt_Valley_2.ts\")\n",
    "tsurf3 = faultmeshio.tsurf(\"./data/CFM/tsurf/Wellington_Hutt_Valley_3.ts\")\n",
    "tsurf4 = faultmeshio.tsurf(\"./data/CFM/tsurf/Wellington_Hutt_Valley_4.ts\")\n",
    "tsurf5 = faultmeshio.tsurf(\"./data/CFM/tsurf/Wellington_Hutt_Valley_5.ts\")"
   ]
  },
  {
   "cell_type": "code",
   "execution_count": 15,
   "metadata": {},
   "outputs": [],
   "source": [
    "\n",
    "m1 = ipv.plot_trisurf(x=tsurf1.x, y=tsurf1.y, z=tsurf1.z, triangles=tsurf1.mesh.cells[0].data, color='lightgray')\n",
    "m2 = ipv.plot_trisurf(x=tsurf2.x, y=tsurf2.y, z=tsurf2.z, triangles=tsurf2.mesh.cells[0].data, color='lightgray')\n",
    "m3 = ipv.plot_trisurf(x=tsurf3.x, y=tsurf3.y, z=tsurf3.z, triangles=tsurf3.mesh.cells[0].data, color='lightgray')\n",
    "m4 = ipv.plot_trisurf(x=tsurf4.x, y=tsurf4.y, z=tsurf4.z, triangles=tsurf4.mesh.cells[0].data, color='lightgray')\n",
    "m5 = ipv.plot_trisurf(x=tsurf5.x, y=tsurf5.y, z=tsurf5.z, triangles=tsurf5.mesh.cells[0].data, color='lightgray')\n"
   ]
  }
 ],
 "metadata": {
  "kernelspec": {
   "display_name": "Python 3",
   "language": "python",
   "name": "python3"
  },
  "language_info": {
   "codemirror_mode": {
    "name": "ipython",
    "version": 3
   },
   "file_extension": ".py",
   "mimetype": "text/x-python",
   "name": "python",
   "nbconvert_exporter": "python",
   "pygments_lexer": "ipython3",
   "version": "3.8.5"
  }
 },
 "nbformat": 4,
 "nbformat_minor": 4
}
