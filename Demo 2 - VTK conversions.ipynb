{
 "cells": [
  {
   "cell_type": "markdown",
   "metadata": {},
   "source": [
    "# Describe VTK conversion here"
   ]
  },
  {
   "cell_type": "code",
   "execution_count": 31,
   "metadata": {},
   "outputs": [],
   "source": [
    "from pathlib2 import Path\n",
    "import meshio\n",
    "from eq_fault_geom import faultmeshio # this could be added to meshio ??\\\n",
    "import geopandas as gpd"
   ]
  },
  {
   "cell_type": "markdown",
   "metadata": {},
   "source": [
    "## Convert Hi-res fault surfaces\n",
    "\n",
    "These are the CFM MOVE tsurf files, converted into VTK format"
   ]
  },
  {
   "cell_type": "code",
   "execution_count": 32,
   "metadata": {},
   "outputs": [
    {
     "name": "stderr",
     "output_type": "stream",
     "text": [
      "WARNING:root:VTK ASCII files are only meant for debugging.\n",
      "WARNING:root:VTK ASCII files are only meant for debugging.\n",
      "WARNING:root:VTK ASCII files are only meant for debugging.\n",
      "WARNING:root:VTK ASCII files are only meant for debugging.\n",
      "WARNING:root:VTK ASCII files are only meant for debugging.\n",
      "WARNING:root:VTK ASCII files are only meant for debugging.\n",
      "WARNING:root:VTK ASCII files are only meant for debugging.\n",
      "WARNING:root:VTK ASCII files are only meant for debugging.\n",
      "WARNING:root:VTK ASCII files are only meant for debugging.\n",
      "WARNING:root:VTK ASCII files are only meant for debugging.\n"
     ]
    }
   ],
   "source": [
    "#convert the tsurf files from CFM into VTK format\n",
    "inpath = Path(\"./data/CFM/tsurf\")\n",
    "outpath = Path(\"./tmp/hi-res\")\n",
    "\n",
    "#ensure outpath exists\n",
    "outpath.mkdir(parents=True, exist_ok=True)\n",
    "\n",
    "#iterate over the *.ts files, sor\n",
    "for tsurfFile in inpath.glob('*.ts'):\n",
    "    outFile = Path.joinpath(outpath, tsurfFile.stem).with_suffix('.vtk')\n",
    "    tsurf = faultmeshio.tsurf(tsurfFile)\n",
    "    meshio.write(str(outFile), tsurf.mesh, binary=False)"
   ]
  },
  {
   "cell_type": "markdown",
   "metadata": {},
   "source": [
    "## Convert stirling surfaces as used by the opensha-*\n",
    "\n",
    "These are created from the 2D Shapefiles in CFM"
   ]
  },
  {
   "cell_type": "code",
   "execution_count": 33,
   "metadata": {},
   "outputs": [],
   "source": [
    "# Read in data\n",
    "shp_df = gpd.GeoDataFrame.from_file(\"zip://./data/CFM/GIS/NZ_CFM_v0_3_180620.zip!NZ_CFM_v0_3_180620.shp\")\n",
    "\n",
    "# Convert to NZTM\n",
    "#shp_df.to_crs(epsg=2193)"
   ]
  },
  {
   "cell_type": "code",
   "execution_count": 34,
   "metadata": {},
   "outputs": [],
   "source": [
    "\n",
    "import cfm_shp_to_vtk as cv"
   ]
  },
  {
   "cell_type": "code",
   "execution_count": 35,
   "metadata": {},
   "outputs": [
    {
     "name": "stderr",
     "output_type": "stream",
     "text": [
      "WARNING:root:VTK ASCII files are only meant for debugging.\n",
      "WARNING:root:VTK ASCII files are only meant for debugging.\n",
      "WARNING:root:VTK ASCII files are only meant for debugging.\n",
      "WARNING:root:VTK ASCII files are only meant for debugging.\n",
      "WARNING:root:VTK ASCII files are only meant for debugging.\n",
      "WARNING:root:VTK ASCII files are only meant for debugging.\n",
      "WARNING:root:VTK ASCII files are only meant for debugging.\n",
      "WARNING:root:VTK ASCII files are only meant for debugging.\n",
      "WARNING:root:VTK ASCII files are only meant for debugging.\n",
      "WARNING:root:VTK ASCII files are only meant for debugging.\n"
     ]
    }
   ],
   "source": [
    "flt1 = shp_df.FZ_Name.str.contains(\"Wellington Hutt Valley\")\n",
    "flt2 = shp_df.FZ_Name.str.contains(\"Wairarapa\")\n",
    "faults = shp_df[flt2|flt1]\n",
    "\n",
    "faults = faults.sort_values(\"FZ_Name\").reset_index(drop=True)\n",
    "sorted_wgs = faults.to_crs(epsg=4326)\n",
    "\n",
    "cv.output_path = Path(\"./tmp/lo-res\")\n",
    "cv.output_path.mkdir(parents=True, exist_ok=True)\n",
    "\n",
    "for i, fault in sorted_wgs.iterrows():\n",
    "    nztm_geometry_i = faults.iloc[i].geometry\n",
    "    cv.create_stirling_vtk(fault, section_id=i, nztm_geometry=nztm_geometry_i)\n"
   ]
  },
  {
   "cell_type": "code",
   "execution_count": null,
   "metadata": {},
   "outputs": [],
   "source": []
  }
 ],
 "metadata": {
  "kernelspec": {
   "display_name": "ipyvolume",
   "language": "python",
   "name": "ipyvolume"
  },
  "language_info": {
   "codemirror_mode": {
    "name": "ipython",
    "version": 3
   },
   "file_extension": ".py",
   "mimetype": "text/x-python",
   "name": "python",
   "nbconvert_exporter": "python",
   "pygments_lexer": "ipython3",
   "version": "3.8.5"
  }
 },
 "nbformat": 4,
 "nbformat_minor": 4
}
