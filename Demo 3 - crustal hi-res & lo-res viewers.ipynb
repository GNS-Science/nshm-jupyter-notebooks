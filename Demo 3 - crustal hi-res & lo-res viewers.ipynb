{
 "cells": [
  {
   "cell_type": "markdown",
   "metadata": {},
   "source": [
    "# Demo 3 - crustal hi-res & lo-res viewers"
   ]
  },
  {
   "cell_type": "code",
   "execution_count": 1,
   "metadata": {},
   "outputs": [],
   "source": [
    "%matplotlib inline\n",
    "from pyvista import set_plot_theme\n",
    "set_plot_theme('document')"
   ]
  },
  {
   "cell_type": "markdown",
   "metadata": {},
   "source": [
    "## Pyvista - simple hi-res images "
   ]
  },
  {
   "cell_type": "code",
   "execution_count": null,
   "metadata": {},
   "outputs": [],
   "source": [
    "import pyvista as pv\n",
    "\n",
    "mesh1 = pv.PolyData()\n",
    "for f in \"ABCDE\":\n",
    "    fname = \"./tmp/lo-res/Wellington_Hutt_Valley_%s.vtk\" % f\n",
    "    mesh1 += pv.read(fname)\n",
    "\n",
    "mesh2 = pv.PolyData()\n",
    "for f in range(1,6):\n",
    "    fname = \"tmp/hi-res/Wellington_Hutt_Valley_%s.vtk\" % f\n",
    "    mesh2 += pv.read(fname)\n",
    "\n",
    "mesh = mesh1 + mesh2    \n",
    "    \n",
    "# camera_pos = [(107000.0, 68.5, 204.0), (128000.0, 86.5, 223.5), (0.45, 0.36, -0.8)]\n",
    "camera_pos = mesh.plot(opacity=0.2, color=True, show_edges=True)"
   ]
  },
  {
   "cell_type": "markdown",
   "metadata": {},
   "source": [
    "## ipyvolume - interactive 3D viewer"
   ]
  },
  {
   "cell_type": "code",
   "execution_count": null,
   "metadata": {},
   "outputs": [],
   "source": [
    "#extract ipv tri_surf paramaters from pyvista objects\n",
    "points1 = mesh1.points.transpose()\n",
    "x1 = points1[0]\n",
    "y1 = points1[1]\n",
    "z1 = points1[2]\n",
    "\n",
    "points2 = mesh2.points.transpose()\n",
    "x2 = points2[0]\n",
    "y2 = points2[1]\n",
    "z2 = points2[2]\n",
    "\n",
    "def tri_indices(mesh):\n",
    "    for i in range(0, mesh.n_cells * 4, 4):\n",
    "        yield mesh.cells[i+1:i+4]"
   ]
  },
  {
   "cell_type": "code",
   "execution_count": null,
   "metadata": {},
   "outputs": [],
   "source": [
    "import ipyvolume as ipv\n",
    "import ipywidgets as widgets\n",
    "\n",
    "fig = ipv.figure(height=600, width=600)\n",
    "    \n",
    "m1 = ipv.plot_trisurf(x=x1, y=y1, z=z1, triangles=[x for x in tri_indices(mesh1)], color='lightgray')\n",
    "m2 = ipv.plot_trisurf(x=x2, y=y2, z=z2, triangles=[x for x in tri_indices(mesh2)], color='red')\n",
    "#m3 = subsection_from_opensha\n",
    "\n",
    "ipv.ylim( min(y1.min(), y2.min()), max(y1.max(), y2.max()))\n",
    "ipv.xlim( min(x1.min(), x2.min()), max(x1.max(), x2.max()))\n",
    "ipv.zlim( -40e3, 0) #figure out how to set this so dip is correct!\n"
   ]
  },
  {
   "cell_type": "code",
   "execution_count": null,
   "metadata": {},
   "outputs": [],
   "source": [
    "# Add some user controls\n",
    "show_lo_res =  widgets.ToggleButton(\n",
    "    value=True,\n",
    "    description='Lo Res (Stirling)',\n",
    "    disabled=False)\n",
    "\n",
    "show_hi_res =  widgets.ToggleButton(\n",
    "    value=True,\n",
    "    description='Hi Res (tsurf)',\n",
    "    disabled=False)\n",
    "\n",
    "def on_hires_button_changed(b):\n",
    "    m2.material.visible = b['new']\n",
    "\n",
    "def on_lores_button_changed(b):\n",
    "    m1.material.visible = b['new']\n",
    "\n",
    "show_lo_res.observe(on_lores_button_changed, names='value')\n",
    "show_hi_res.observe(on_hires_button_changed, names='value')\n"
   ]
  },
  {
   "cell_type": "code",
   "execution_count": null,
   "metadata": {},
   "outputs": [],
   "source": [
    "ipv.show()"
   ]
  },
  {
   "cell_type": "code",
   "execution_count": null,
   "metadata": {},
   "outputs": [],
   "source": [
    "widgets.Box([show_lo_res, show_hi_res])"
   ]
  },
  {
   "cell_type": "code",
   "execution_count": null,
   "metadata": {},
   "outputs": [],
   "source": []
  }
 ],
 "metadata": {
  "kernelspec": {
   "display_name": "ipyvolume",
   "language": "python",
   "name": "ipyvolume"
  },
  "language_info": {
   "codemirror_mode": {
    "name": "ipython",
    "version": 3
   },
   "file_extension": ".py",
   "mimetype": "text/x-python",
   "name": "python",
   "nbconvert_exporter": "python",
   "pygments_lexer": "ipython3",
   "version": "3.8.5"
  }
 },
 "nbformat": 4,
 "nbformat_minor": 4
}
