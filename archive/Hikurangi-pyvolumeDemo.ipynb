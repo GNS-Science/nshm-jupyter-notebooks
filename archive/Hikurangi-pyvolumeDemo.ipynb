{
 "cells": [
  {
   "cell_type": "markdown",
   "metadata": {},
   "source": [
    "# Hikurangi-pyvolumeDemo\n",
    "\n",
    "Use the **pyvolume** library to produce an interactive 3D visualisation of Hikurangi."
   ]
  },
  {
   "cell_type": "code",
   "execution_count": 12,
   "metadata": {},
   "outputs": [],
   "source": [
    "import ipyvolume as ipv\n",
    "# import ipyvolume\n",
    "import requests\n",
    "import numpy as np"
   ]
  },
  {
   "cell_type": "code",
   "execution_count": 2,
   "metadata": {},
   "outputs": [],
   "source": [
    "!pip install geopandas >/dev/null\n",
    "!pip install nest_asyncio > /dev/null\n",
    "import geopandas as gpd"
   ]
  },
  {
   "cell_type": "code",
   "execution_count": 3,
   "metadata": {},
   "outputs": [],
   "source": [
    "#for data animations\n",
    "import asyncio\n",
    "import nest_asyncio\n",
    "nest_asyncio.apply()"
   ]
  },
  {
   "cell_type": "code",
   "execution_count": 4,
   "metadata": {},
   "outputs": [],
   "source": [
    "# tiles\n",
    "url30 = \"https://github.com/GNS-Science/eq-fault-geom/blob/chris_ruptures_101/data/subduction/tile_outlines_30.zip?raw=true\"\n",
    "url10 = \"https://github.com/GNS-Science/eq-fault-geom/blob/chris_ruptures_101/data/subduction/tile_outlines.zip?raw=true\"\n",
    "\n",
    "tile_outlines_nztm = gpd.read_file(url10).to_crs(epsg=2193)"
   ]
  },
  {
   "cell_type": "code",
   "execution_count": 5,
   "metadata": {},
   "outputs": [],
   "source": [
    "def quadPolyToTriPoly(coords, idx):\n",
    "    assert len(coords) == 5\n",
    "    x = [g[0] for g in coords[:-1]]\n",
    "    y = [g[1] for g in coords[:-1]]\n",
    "    z = [g[2] for g in coords[:-1]]\n",
    "    faces = [[idx, idx+1, idx+2], [idx, idx+2, idx+3]]\n",
    "    return x, y, z, faces\n",
    "    "
   ]
  },
  {
   "cell_type": "code",
   "execution_count": 6,
   "metadata": {},
   "outputs": [],
   "source": [
    "# build the fault section tiles \n",
    "idx = 0\n",
    "x,y,z,t = [], [], [], []  \n",
    "for bdry in tile_outlines_nztm.geometry.boundary:\n",
    "    x0,y0,z0,t0 = quadPolyToTriPoly(list(bdry.coords), idx)\n",
    "    x.extend(x0)\n",
    "    y.extend(y0)\n",
    "    z.extend(z0)\n",
    "    t.extend(t0)\n",
    "    idx +=4"
   ]
  },
  {
   "cell_type": "code",
   "execution_count": 7,
   "metadata": {},
   "outputs": [],
   "source": [
    "#build the rupture face data\n",
    "idx = 0\n",
    "x1,y1,z1,t1 = [], [], [], []  \n",
    "for bdry in tile_outlines_nztm.geometry.boundary[:540]:\n",
    "    x0,y0,z0,t0 = quadPolyToTriPoly(list(bdry.coords), idx)\n",
    "    x1.extend(x0)\n",
    "    y1.extend(y0)\n",
    "    z1.extend(z0)\n",
    "    t1.extend(t0)\n",
    "    idx +=4\n",
    "    "
   ]
  },
  {
   "cell_type": "code",
   "execution_count": 8,
   "metadata": {},
   "outputs": [
    {
     "data": {
      "application/vnd.jupyter.widget-view+json": {
       "model_id": "75e6f4e12aa14cdc95ce2c3a06f92d5b",
       "version_major": 2,
       "version_minor": 0
      },
      "text/plain": [
       "VBox(children=(Figure(camera=PerspectiveCamera(fov=45.0, position=(0.0, 0.0, 2.0), quaternion=(0.0, 0.0, 0.0, …"
      ]
     },
     "metadata": {},
     "output_type": "display_data"
    }
   ],
   "source": [
    "#draw the tetrahedron\n",
    "fig = ipv.figure()\n",
    "mesh = ipv.plot_trisurf(x=x, y=y, z=z, triangles=t, color='lightblue')\n",
    "faces = ipv.plot_trisurf(x1, y1, z1, triangles=t1, color='red')\n",
    "ipv.ylim( min(y), max(y))\n",
    "ipv.xlim( min(x), max(x))\n",
    "ipv.zlim(-250e3, 0)\n",
    "ipv.show()"
   ]
  },
  {
   "cell_type": "code",
   "execution_count": 14,
   "metadata": {},
   "outputs": [],
   "source": [
    "# use async co-routines to update data \n",
    "async def new_faces(n):\n",
    "    faces.triangles = np.array(t1[:n], dtype='uint32')\n",
    "    await asyncio.sleep(0.2)\n",
    "\n",
    "for n in range(-2, -1 * len(t1), -20):\n",
    "    task = asyncio.create_task(new_faces(n))\n",
    "    await task\n"
   ]
  },
  {
   "cell_type": "code",
   "execution_count": null,
   "metadata": {},
   "outputs": [],
   "source": []
  }
 ],
 "metadata": {
  "kernelspec": {
   "display_name": "Python 3",
   "language": "python",
   "name": "python3"
  },
  "language_info": {
   "codemirror_mode": {
    "name": "ipython",
    "version": 3
   },
   "file_extension": ".py",
   "mimetype": "text/x-python",
   "name": "python",
   "nbconvert_exporter": "python",
   "pygments_lexer": "ipython3",
   "version": "3.7.8"
  }
 },
 "nbformat": 4,
 "nbformat_minor": 4
}
