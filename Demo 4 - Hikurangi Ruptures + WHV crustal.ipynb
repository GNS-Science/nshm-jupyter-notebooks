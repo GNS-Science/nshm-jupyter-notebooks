{
 "cells": [
  {
   "cell_type": "markdown",
   "metadata": {},
   "source": [
    "# Demo 4 - Hikurangi Ruptures + WHV crustal\n",
    "\n",
    "Extends Demo 1, adding the 5 **Wellington_Hutt_Valley** fault sections as **stirling surfaces** as used in opensha.\n",
    "\n",
    "The VTK files in triangulated form are built in **Demo 2** using the GNS/eq-fault-geom utilities and the CFM 2D shapefiles as the source data."
   ]
  },
  {
   "cell_type": "markdown",
   "metadata": {},
   "source": [
    "## Run Demo 1"
   ]
  },
  {
   "cell_type": "code",
   "execution_count": 4,
   "metadata": {},
   "outputs": [
    {
     "data": {
      "application/vnd.jupyter.widget-view+json": {
       "model_id": "2a8f30cec04f4a03a437e44772b3d526",
       "version_major": 2,
       "version_minor": 0
      },
      "text/plain": [
       "VBox(children=(Figure(camera=PerspectiveCamera(fov=45.0, position=(0.0, 0.0, 2.0), quaternion=(0.0, 0.0, 0.0, …"
      ]
     },
     "metadata": {},
     "output_type": "display_data"
    }
   ],
   "source": [
    "%run \"Demo 1 - Hikurangi ruptures with ipyvolume.ipynb\""
   ]
  },
  {
   "cell_type": "code",
   "execution_count": 5,
   "metadata": {},
   "outputs": [
    {
     "data": {
      "application/vnd.jupyter.widget-view+json": {
       "model_id": "862502c23c5c4c06a3f8e607abad687e",
       "version_major": 2,
       "version_minor": 0
      },
      "text/plain": [
       "Box(children=(Dropdown(description='Rupture spec', options=('spec0', 'spec1', 'spec2', 'spec3', 'spec4', 'spec…"
      ]
     },
     "metadata": {},
     "output_type": "display_data"
    }
   ],
   "source": [
    "# Display the controls\n",
    "rupture_controls"
   ]
  },
  {
   "cell_type": "markdown",
   "metadata": {},
   "source": [
    "## Add the triangulated surfaces for the Wellington Hutt Valley Fault "
   ]
  },
  {
   "cell_type": "code",
   "execution_count": 6,
   "metadata": {},
   "outputs": [
    {
     "data": {
      "application/vnd.jupyter.widget-view+json": {
       "model_id": "87920f064e804692b1f4ff663774eb54",
       "version_major": 2,
       "version_minor": 0
      },
      "text/plain": [
       "Mesh(color=array('lightgray', dtype='<U9'), line_material=ShaderMaterial(), material=ShaderMaterial(side='Doub…"
      ]
     },
     "metadata": {},
     "output_type": "display_data"
    }
   ],
   "source": [
    "import pyvista as pv\n",
    "\n",
    "mesh1 = pv.PolyData()\n",
    "for f in \"ABCDE\":\n",
    "    fname = \"./tmp/lo-res/Wellington_Hutt_Valley_%s.vtk\" % f\n",
    "    mesh1 += pv.read(fname)\n",
    "\n",
    "#extract ipv tri_surf paramaters from pyvista objects\n",
    "points1 = mesh1.points.transpose()\n",
    "x1 = points1[0]\n",
    "y1 = points1[1]\n",
    "z1 = points1[2]    \n",
    "\n",
    "def tri_indices(mesh):\n",
    "    for i in range(0, mesh.n_cells * 4, 4):\n",
    "        yield mesh.cells[i+1:i+4]\n",
    " \n",
    "ipv.plot_trisurf(x=x1, y=y1, z=z1, triangles=[x for x in tri_indices(mesh1)], color='lightgray')"
   ]
  },
  {
   "cell_type": "code",
   "execution_count": null,
   "metadata": {},
   "outputs": [],
   "source": [
    "## This technique also works ...\n",
    "\n",
    "# from eq_fault_geom import faultmeshio\n",
    "# tsurf1 = faultmeshio.tsurf(\"./data/CFM/tsurf/Wellington_Hutt_Valley_1.ts\")\n",
    "# tsurf2 = faultmeshio.tsurf(\"./data/CFM/tsurf/Wellington_Hutt_Valley_2.ts\")\n",
    "# tsurf3 = faultmeshio.tsurf(\"./data/CFM/tsurf/Wellington_Hutt_Valley_3.ts\")\n",
    "# tsurf4 = faultmeshio.tsurf(\"./data/CFM/tsurf/Wellington_Hutt_Valley_4.ts\")\n",
    "# tsurf5 = faultmeshio.tsurf(\"./data/CFM/tsurf/Wellington_Hutt_Valley_5.ts\")\n",
    "\n",
    "# m1 = ipv.plot_trisurf(x=tsurf1.x, y=tsurf1.y, z=tsurf1.z, triangles=tsurf1.mesh.cells[0].data)\n",
    "# m2 = ipv.plot_trisurf(x=tsurf2.x, y=tsurf2.y, z=tsurf2.z, triangles=tsurf2.mesh.cells[0].data) \n",
    "# etc\n"
   ]
  },
  {
   "cell_type": "code",
   "execution_count": null,
   "metadata": {},
   "outputs": [],
   "source": []
  }
 ],
 "metadata": {
  "kernelspec": {
   "display_name": "Python 3",
   "language": "python",
   "name": "python3"
  },
  "language_info": {
   "codemirror_mode": {
    "name": "ipython",
    "version": 3
   },
   "file_extension": ".py",
   "mimetype": "text/x-python",
   "name": "python",
   "nbconvert_exporter": "python",
   "pygments_lexer": "ipython3",
   "version": "3.8.5"
  }
 },
 "nbformat": 4,
 "nbformat_minor": 4
}
